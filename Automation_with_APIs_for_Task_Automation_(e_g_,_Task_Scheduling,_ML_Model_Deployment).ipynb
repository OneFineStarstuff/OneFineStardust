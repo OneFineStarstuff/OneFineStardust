{
  "nbformat": 4,
  "nbformat_minor": 0,
  "metadata": {
    "colab": {
      "private_outputs": true,
      "provenance": [],
      "authorship_tag": "ABX9TyMV0QEjryPMwrpyju5lvLYD",
      "include_colab_link": true
    },
    "kernelspec": {
      "name": "python3",
      "display_name": "Python 3"
    },
    "language_info": {
      "name": "python"
    }
  },
  "cells": [
    {
      "cell_type": "markdown",
      "metadata": {
        "id": "view-in-github",
        "colab_type": "text"
      },
      "source": [
        "<a href=\"https://colab.research.google.com/github/OneFineStarstuff/OneFineStardust/blob/main/Automation_with_APIs_for_Task_Automation_(e_g_%2C_Task_Scheduling%2C_ML_Model_Deployment).ipynb\" target=\"_parent\"><img src=\"https://colab.research.google.com/assets/colab-badge.svg\" alt=\"Open In Colab\"/></a>"
      ]
    },
    {
      "cell_type": "code",
      "source": [
        "pip install fastapi"
      ],
      "metadata": {
        "id": "8ZiZDysr8oJi"
      },
      "execution_count": null,
      "outputs": []
    },
    {
      "cell_type": "code",
      "execution_count": null,
      "metadata": {
        "id": "QHNKERwc5giE"
      },
      "outputs": [],
      "source": [
        "from fastapi import FastAPI, HTTPException\n",
        "from pydantic import BaseModel\n",
        "import pandas as pd\n",
        "import joblib\n",
        "\n",
        "# Load Pre-trained Model\n",
        "model = joblib.load(\"model.pkl\")\n",
        "\n",
        "# Define the API App and Request Body\n",
        "app = FastAPI()\n",
        "\n",
        "class DataInput(BaseModel):\n",
        "    feature1: float\n",
        "    feature2: float\n",
        "    feature3: float\n",
        "\n",
        "@app.post(\"/predict/\")\n",
        "def predict(data: DataInput):\n",
        "    try:\n",
        "        # Create DataFrame from request data\n",
        "        df = pd.DataFrame([[data.feature1, data.feature2, data.feature3]], columns=[\"feature1\", \"feature2\", \"feature3\"])\n",
        "\n",
        "        # Make Prediction\n",
        "        prediction = model.predict(df)\n",
        "\n",
        "        # Return the prediction in a structured format\n",
        "        return {\"prediction\": int(prediction[0])}\n",
        "\n",
        "    except Exception as e:\n",
        "        raise HTTPException(status_code=400, detail=f\"Prediction error: {str(e)}\")\n",
        "\n",
        "# To run the server: `uvicorn myapi:app --reload`"
      ]
    }
  ]
}