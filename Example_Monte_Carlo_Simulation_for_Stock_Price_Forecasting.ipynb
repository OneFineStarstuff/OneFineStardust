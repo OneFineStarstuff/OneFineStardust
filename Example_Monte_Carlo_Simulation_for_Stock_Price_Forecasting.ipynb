{
  "nbformat": 4,
  "nbformat_minor": 0,
  "metadata": {
    "colab": {
      "private_outputs": true,
      "provenance": [],
      "authorship_tag": "ABX9TyNMG2teH9tYHWtIZy6zzSPr",
      "include_colab_link": true
    },
    "kernelspec": {
      "name": "python3",
      "display_name": "Python 3"
    },
    "language_info": {
      "name": "python"
    }
  },
  "cells": [
    {
      "cell_type": "markdown",
      "metadata": {
        "id": "view-in-github",
        "colab_type": "text"
      },
      "source": [
        "<a href=\"https://colab.research.google.com/github/OneFineStarstuff/OneFineStardust/blob/main/Example_Monte_Carlo_Simulation_for_Stock_Price_Forecasting.ipynb\" target=\"_parent\"><img src=\"https://colab.research.google.com/assets/colab-badge.svg\" alt=\"Open In Colab\"/></a>"
      ]
    },
    {
      "cell_type": "code",
      "execution_count": null,
      "metadata": {
        "id": "mkbUhbdNiVZt"
      },
      "outputs": [],
      "source": [
        "import numpy as np\n",
        "import pandas as pd\n",
        "import matplotlib.pyplot as plt\n",
        "\n",
        "# Parameters for the simulation\n",
        "S0 = 100  # Initial stock price\n",
        "mu = 0.1  # Expected return\n",
        "sigma = 0.2  # Volatility\n",
        "T = 1.0  # Time period (1 year)\n",
        "N = 1000  # Number of time steps\n",
        "dt = T/N  # Time step\n",
        "M = 10  # Number of simulations\n",
        "\n",
        "# Monte Carlo Simulation\n",
        "def simulate_stock_price(S0, mu, sigma, dt, N, M):\n",
        "    price_paths = np.zeros((N + 1, M))\n",
        "    price_paths[0] = S0\n",
        "    for t in range(1, N + 1):\n",
        "        Z = np.random.standard_normal(M)\n",
        "        price_paths[t] = price_paths[t-1] * np.exp((mu - 0.5 * sigma**2) * dt + sigma * np.sqrt(dt) * Z)\n",
        "    return price_paths\n",
        "\n",
        "# Simulate and plot\n",
        "price_paths = simulate_stock_price(S0, mu, sigma, dt, N, M)\n",
        "plt.plot(price_paths)\n",
        "plt.xlabel('Time Steps')\n",
        "plt.ylabel('Stock Price')\n",
        "plt.title('Monte Carlo Simulation of Stock Prices')\n",
        "plt.show()"
      ]
    }
  ]
}