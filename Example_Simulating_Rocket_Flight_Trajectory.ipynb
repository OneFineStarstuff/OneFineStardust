{
  "nbformat": 4,
  "nbformat_minor": 0,
  "metadata": {
    "colab": {
      "private_outputs": true,
      "provenance": [],
      "authorship_tag": "ABX9TyN3KL5dHeDBZ2ZiPpJ/UiHk",
      "include_colab_link": true
    },
    "kernelspec": {
      "name": "python3",
      "display_name": "Python 3"
    },
    "language_info": {
      "name": "python"
    }
  },
  "cells": [
    {
      "cell_type": "markdown",
      "metadata": {
        "id": "view-in-github",
        "colab_type": "text"
      },
      "source": [
        "<a href=\"https://colab.research.google.com/github/OneFineStarstuff/OneFineStardust/blob/main/Example_Simulating_Rocket_Flight_Trajectory.ipynb\" target=\"_parent\"><img src=\"https://colab.research.google.com/assets/colab-badge.svg\" alt=\"Open In Colab\"/></a>"
      ]
    },
    {
      "cell_type": "code",
      "execution_count": null,
      "metadata": {
        "id": "yx4hbN6uG9cU"
      },
      "outputs": [],
      "source": [
        "import numpy as np\n",
        "import matplotlib.pyplot as plt\n",
        "\n",
        "# Define rocket parameters\n",
        "g = 9.81  # Gravity (m/s^2)\n",
        "v0 = 300  # Initial velocity (m/s)\n",
        "theta = np.radians(45)  # Launch angle (45 degrees)\n",
        "t = np.linspace(0, 40, num=1000)  # Time array\n",
        "\n",
        "# Calculate horizontal and vertical displacements\n",
        "x = v0 * np.cos(theta) * t\n",
        "y = v0 * np.sin(theta) * t - 0.5 * g * t**2\n",
        "\n",
        "# Plot the trajectory until the rocket hits the ground\n",
        "y = np.where(y >= 0, y, 0)\n",
        "plt.plot(x, y)\n",
        "plt.title(\"Rocket Trajectory\")\n",
        "plt.xlabel(\"Horizontal Distance (m)\")\n",
        "plt.ylabel(\"Vertical Height (m)\")\n",
        "plt.grid(True)\n",
        "plt.show()"
      ]
    }
  ]
}