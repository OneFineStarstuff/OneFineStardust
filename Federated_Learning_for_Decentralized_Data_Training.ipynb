{
  "nbformat": 4,
  "nbformat_minor": 0,
  "metadata": {
    "colab": {
      "private_outputs": true,
      "provenance": [],
      "authorship_tag": "ABX9TyPDPnng+BlbMwxKYvZnW30B",
      "include_colab_link": true
    },
    "kernelspec": {
      "name": "python3",
      "display_name": "Python 3"
    },
    "language_info": {
      "name": "python"
    }
  },
  "cells": [
    {
      "cell_type": "markdown",
      "metadata": {
        "id": "view-in-github",
        "colab_type": "text"
      },
      "source": [
        "<a href=\"https://colab.research.google.com/github/OneFineStarstuff/OneFineStardust/blob/main/Federated_Learning_for_Decentralized_Data_Training.ipynb\" target=\"_parent\"><img src=\"https://colab.research.google.com/assets/colab-badge.svg\" alt=\"Open In Colab\"/></a>"
      ]
    },
    {
      "cell_type": "code",
      "source": [
        "pip install syft"
      ],
      "metadata": {
        "id": "ijkNvzVAsVS-"
      },
      "execution_count": null,
      "outputs": []
    },
    {
      "cell_type": "code",
      "execution_count": null,
      "metadata": {
        "id": "oAFghcsrsFEw"
      },
      "outputs": [],
      "source": [
        "import torch\n",
        "import torch.nn as nn\n",
        "import torch.optim as optim\n",
        "import syft as sy\n",
        "\n",
        "# Initialize PySyft hook\n",
        "hook = sy.TorchHook(torch)\n",
        "\n",
        "# Initialize workers\n",
        "alice = sy.VirtualWorker(hook, id=\"alice\")\n",
        "bob = sy.VirtualWorker(hook, id=\"bob\")\n",
        "\n",
        "# Define a simple model\n",
        "class Net(nn.Module):\n",
        "    def __init__(self):\n",
        "        super(Net, self).__init__()\n",
        "        self.fc = nn.Linear(10, 2)\n",
        "\n",
        "    def forward(self, x):\n",
        "        return self.fc(x)\n",
        "\n",
        "# Create a model\n",
        "model = Net()\n",
        "\n",
        "# Dummy data\n",
        "data_alice = torch.randn(32, 10).send(alice)\n",
        "target_alice = torch.randint(0, 2, (32,)).send(alice)\n",
        "data_bob = torch.randn(32, 10).send(bob)\n",
        "target_bob = torch.randint(0, 2, (32,)).send(bob)\n",
        "\n",
        "# Optimizer\n",
        "optimizer = optim.SGD(model.parameters(), lr=0.01)\n",
        "\n",
        "# Federated learning training\n",
        "for epoch in range(10):\n",
        "    # Train on Alice's data\n",
        "    model.send(alice)\n",
        "    optimizer.zero_grad()\n",
        "    output = model(data_alice)\n",
        "    loss = nn.CrossEntropyLoss()(output, target_alice)\n",
        "    loss.backward()\n",
        "    optimizer.step()\n",
        "    model.get()\n",
        "\n",
        "    # Train on Bob's data\n",
        "    model.send(bob)\n",
        "    optimizer.zero_grad()\n",
        "    output = model(data_bob)\n",
        "    loss = nn.CrossEntropyLoss()(output, target_bob)\n",
        "    loss.backward()\n",
        "    optimizer.step()\n",
        "    model.get()"
      ]
    }
  ]
}