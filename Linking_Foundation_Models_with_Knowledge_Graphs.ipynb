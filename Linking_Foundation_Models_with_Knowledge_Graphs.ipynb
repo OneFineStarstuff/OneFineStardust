{
  "nbformat": 4,
  "nbformat_minor": 0,
  "metadata": {
    "colab": {
      "private_outputs": true,
      "provenance": [],
      "authorship_tag": "ABX9TyPkmoPNR2MdqDjLLirdgd9k",
      "include_colab_link": true
    },
    "kernelspec": {
      "name": "python3",
      "display_name": "Python 3"
    },
    "language_info": {
      "name": "python"
    }
  },
  "cells": [
    {
      "cell_type": "markdown",
      "metadata": {
        "id": "view-in-github",
        "colab_type": "text"
      },
      "source": [
        "<a href=\"https://colab.research.google.com/github/OneFineStarstuff/OneFineStardust/blob/main/Linking_Foundation_Models_with_Knowledge_Graphs.ipynb\" target=\"_parent\"><img src=\"https://colab.research.google.com/assets/colab-badge.svg\" alt=\"Open In Colab\"/></a>"
      ]
    },
    {
      "cell_type": "code",
      "source": [
        "import torch\n",
        "from transformers import AutoModelForQuestionAnswering, AutoTokenizer\n",
        "\n",
        "# Initialize the model and tokenizer\n",
        "model_name = \"bert-large-uncased-whole-word-masking-finetuned-squad\"\n",
        "model = AutoModelForQuestionAnswering.from_pretrained(model_name)\n",
        "tokenizer = AutoTokenizer.from_pretrained(model_name)\n",
        "\n",
        "# Define the question and context (replace with actual KG-enhanced context)\n",
        "question = \"Who discovered penicillin?\"\n",
        "context = \"\"\"\n",
        "Penicillin was discovered by Alexander Fleming in 1928. Fleming was a Scottish bacteriologist...\n",
        "\"\"\"  # This should ideally be enhanced with KG data\n",
        "\n",
        "# Tokenize inputs\n",
        "inputs = tokenizer(question, context, return_tensors=\"pt\")\n",
        "\n",
        "# Get model output\n",
        "outputs = model(**inputs)\n",
        "\n",
        "# Extract answer\n",
        "answer_start_index = outputs.start_logits.argmax()\n",
        "answer_end_index = outputs.end_logits.argmax()\n",
        "answer = tokenizer.convert_tokens_to_string(\n",
        "    tokenizer.convert_ids_to_tokens(inputs[\"input_ids\"][0][answer_start_index:answer_end_index+1])\n",
        ")\n",
        "\n",
        "print(\"Response:\", answer)"
      ],
      "metadata": {
        "id": "eM6bL8BtOkRu"
      },
      "execution_count": null,
      "outputs": []
    }
  ]
}