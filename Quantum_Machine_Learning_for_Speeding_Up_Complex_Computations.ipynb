{
  "nbformat": 4,
  "nbformat_minor": 0,
  "metadata": {
    "colab": {
      "private_outputs": true,
      "provenance": [],
      "authorship_tag": "ABX9TyNsXtVk87PRpDUfR/uE5Cjf",
      "include_colab_link": true
    },
    "kernelspec": {
      "name": "python3",
      "display_name": "Python 3"
    },
    "language_info": {
      "name": "python"
    }
  },
  "cells": [
    {
      "cell_type": "markdown",
      "metadata": {
        "id": "view-in-github",
        "colab_type": "text"
      },
      "source": [
        "<a href=\"https://colab.research.google.com/github/OneFineStarstuff/OneFineStardust/blob/main/Quantum_Machine_Learning_for_Speeding_Up_Complex_Computations.ipynb\" target=\"_parent\"><img src=\"https://colab.research.google.com/assets/colab-badge.svg\" alt=\"Open In Colab\"/></a>"
      ]
    },
    {
      "cell_type": "code",
      "source": [
        "!pip install qiskit\n",
        "!pip install qiskit-aer"
      ],
      "metadata": {
        "id": "E2rCPiehYJ1J"
      },
      "execution_count": null,
      "outputs": []
    },
    {
      "cell_type": "code",
      "source": [
        "!pip install qiskit-aer --upgrade"
      ],
      "metadata": {
        "id": "_L13C-HTZLbI"
      },
      "execution_count": null,
      "outputs": []
    },
    {
      "cell_type": "code",
      "source": [
        "from qiskit import Aer, QuantumCircuit"
      ],
      "metadata": {
        "id": "qHZmkDXEZPIf"
      },
      "execution_count": null,
      "outputs": []
    },
    {
      "cell_type": "code",
      "source": [
        "quantum_instance = Aer.get_backend('statevector_simulator')"
      ],
      "metadata": {
        "id": "AH431_hRZVpJ"
      },
      "execution_count": null,
      "outputs": []
    },
    {
      "cell_type": "code",
      "source": [
        "!pip install qiskit qiskit-aer --upgrade --force-reinstall"
      ],
      "metadata": {
        "id": "EgSRQRDbaTO0"
      },
      "execution_count": null,
      "outputs": []
    },
    {
      "cell_type": "code",
      "source": [
        "!pip install qiskit==0.31.0 qiskit-aer==0.10.3"
      ],
      "metadata": {
        "id": "_XbQ5aotaWfe"
      },
      "execution_count": null,
      "outputs": []
    },
    {
      "cell_type": "code",
      "source": [
        "# Create a virtual environment\n",
        "!python -m venv qiskit_env\n",
        "\n",
        "# Activate the virtual environment\n",
        "!source qiskit_env/bin/activate # On Windows, use `qiskit_env\\Scripts\\activate`\n",
        "\n",
        "# Install Qiskit and Qiskit Aer\n",
        "!pip install qiskit qiskit-aer"
      ],
      "metadata": {
        "id": "dRrvyEHRaZrM"
      },
      "execution_count": null,
      "outputs": []
    },
    {
      "cell_type": "code",
      "execution_count": null,
      "metadata": {
        "id": "urhXIu6OYFAd"
      },
      "outputs": [],
      "source": [
        "from qiskit import Aer, QuantumCircuit\n",
        "from qiskit_machine_learning.algorithms import QSVC\n",
        "from qiskit_machine_learning.kernels import QuantumKernel\n",
        "from sklearn.datasets import make_blobs\n",
        "from sklearn.model_selection import train_test_split\n",
        "\n",
        "# Generate a sample dataset\n",
        "X, y = make_blobs(n_samples=50, centers=2, random_state=42)\n",
        "X_train, X_test, y_train, y_test = train_test_split(X, y, test_size=0.2)\n",
        "\n",
        "# Define a quantum feature map\n",
        "qc = QuantumCircuit(2)\n",
        "qc.h(0)\n",
        "qc.cx(0, 1)\n",
        "qc.rz(1.57, 0)\n",
        "qc.rz(1.57, 1)\n",
        "\n",
        "# Create Quantum Kernel\n",
        "quantum_kernel = QuantumKernel(feature_map=qc, quantum_instance=Aer.get_backend('statevector_simulator'))\n",
        "\n",
        "# Train QSVC with the quantum kernel\n",
        "qsvc = QSVC(quantum_kernel=quantum_kernel)\n",
        "qsvc.fit(X_train, y_train)\n",
        "accuracy = qsvc.score(X_test, y_test)\n",
        "print(f\"Quantum SVM Test Accuracy: {accuracy}\")"
      ]
    }
  ]
}