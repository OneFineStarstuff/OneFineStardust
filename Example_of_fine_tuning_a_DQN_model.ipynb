{
  "nbformat": 4,
  "nbformat_minor": 0,
  "metadata": {
    "colab": {
      "private_outputs": true,
      "provenance": [],
      "authorship_tag": "ABX9TyN1j5m3bjVad/yYEI04Ngi6",
      "include_colab_link": true
    },
    "kernelspec": {
      "name": "python3",
      "display_name": "Python 3"
    },
    "language_info": {
      "name": "python"
    }
  },
  "cells": [
    {
      "cell_type": "markdown",
      "metadata": {
        "id": "view-in-github",
        "colab_type": "text"
      },
      "source": [
        "<a href=\"https://colab.research.google.com/github/OneFineStarstuff/OneFineStardust/blob/main/Example_of_fine_tuning_a_DQN_model.ipynb\" target=\"_parent\"><img src=\"https://colab.research.google.com/assets/colab-badge.svg\" alt=\"Open In Colab\"/></a>"
      ]
    },
    {
      "cell_type": "code",
      "execution_count": null,
      "metadata": {
        "id": "v7o3IFSp3yr_"
      },
      "outputs": [],
      "source": [
        "import copy\n",
        "import torch\n",
        "import torch.nn as nn\n",
        "import torch.optim as optim\n",
        "\n",
        "# Define a simple DQN model as an example\n",
        "class DQN(nn.Module):\n",
        "    def __init__(self, state_dim, action_dim):\n",
        "        super(DQN, self).__init__()\n",
        "        self.fc1 = nn.Linear(state_dim, 128)\n",
        "        self.fc2 = nn.Linear(128, 128)\n",
        "        self.fc3 = nn.Linear(128, action_dim)\n",
        "\n",
        "    def forward(self, x):\n",
        "        x = torch.relu(self.fc1(x))\n",
        "        x = torch.relu(self.fc2(x))\n",
        "        x = self.fc3(x)\n",
        "        return x\n",
        "\n",
        "# Assume this is your pre-trained source DQN model\n",
        "state_dim = 10  # Example state dimension\n",
        "action_dim = 4  # Example action dimension\n",
        "source_dqn = DQN(state_dim, action_dim)\n",
        "\n",
        "# Example of loading pre-trained weights, if you have them saved\n",
        "# source_dqn.load_state_dict(torch.load('source_dqn.pth'))\n",
        "\n",
        "# Create a copy of the source model for fine-tuning\n",
        "target_dqn = copy.deepcopy(source_dqn)\n",
        "\n",
        "# Define a new optimizer for the target task\n",
        "NEW_LR = 1e-4  # Define the new learning rate for fine-tuning\n",
        "optimizer = optim.Adam(target_dqn.parameters(), lr=NEW_LR)\n",
        "\n",
        "# Assume we have a function to get batches from the target dataset\n",
        "def get_target_batch():\n",
        "    # Return a batch of (state, action, reward, next_state, done) from the target dataset\n",
        "    state = torch.randn(32, state_dim)\n",
        "    action = torch.randint(0, action_dim, (32, 1))\n",
        "    reward = torch.randn(32, 1)\n",
        "    next_state = torch.randn(32, state_dim)\n",
        "    done = torch.randint(0, 2, (32, 1))\n",
        "    return state, action, reward, next_state, done\n",
        "\n",
        "# Fine-tune loop\n",
        "num_epochs = 10  # Number of epochs to fine-tune\n",
        "for epoch in range(num_epochs):\n",
        "    state_batch, action_batch, reward_batch, next_state_batch, done_batch = get_target_batch()\n",
        "\n",
        "    # Compute the Q-value predictions\n",
        "    q_values = target_dqn(state_batch).gather(1, action_batch)\n",
        "\n",
        "    # Compute the target Q-values\n",
        "    next_q_values = target_dqn(next_state_batch).max(1)[0].detach()\n",
        "    target_q_values = reward_batch + (1 - done_batch) * next_q_values.unsqueeze(1) * 0.99  # Assuming gamma = 0.99\n",
        "\n",
        "    # Compute the loss\n",
        "    loss = nn.MSELoss()(q_values, target_q_values)\n",
        "\n",
        "    # Perform a gradient descent step\n",
        "    optimizer.zero_grad()\n",
        "    loss.backward()\n",
        "    optimizer.step()\n",
        "\n",
        "    print(f'Epoch {epoch + 1}/{num_epochs}, Loss: {loss.item()}')\n",
        "\n",
        "print('Fine-tuning complete.')"
      ]
    }
  ]
}