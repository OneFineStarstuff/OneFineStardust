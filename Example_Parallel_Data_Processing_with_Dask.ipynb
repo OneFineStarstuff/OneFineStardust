{
  "nbformat": 4,
  "nbformat_minor": 0,
  "metadata": {
    "colab": {
      "private_outputs": true,
      "provenance": [],
      "authorship_tag": "ABX9TyMOXe3wVAiyeTFZeJqoVW2z",
      "include_colab_link": true
    },
    "kernelspec": {
      "name": "python3",
      "display_name": "Python 3"
    },
    "language_info": {
      "name": "python"
    }
  },
  "cells": [
    {
      "cell_type": "markdown",
      "metadata": {
        "id": "view-in-github",
        "colab_type": "text"
      },
      "source": [
        "<a href=\"https://colab.research.google.com/github/OneFineStarstuff/OneFineStardust/blob/main/Example_Parallel_Data_Processing_with_Dask.ipynb\" target=\"_parent\"><img src=\"https://colab.research.google.com/assets/colab-badge.svg\" alt=\"Open In Colab\"/></a>"
      ]
    },
    {
      "cell_type": "code",
      "execution_count": null,
      "metadata": {
        "id": "OoHUjQTe6Gvl"
      },
      "outputs": [],
      "source": [
        "import dask.dataframe as dd\n",
        "\n",
        "# Load a large CSV file into a Dask DataFrame\n",
        "df = dd.read_csv('large_dataset.csv')\n",
        "\n",
        "# Perform a computation (e.g., compute the mean of a column)\n",
        "mean_value = df['column_name'].mean().compute()\n",
        "\n",
        "print(f\"Mean Value: {mean_value}\")\n",
        "\n",
        "# Perform filtering and aggregation\n",
        "filtered_df = df[df['column_name'] > 50]\n",
        "agg_result = filtered_df.groupby('category_column')['value_column'].sum().compute()\n",
        "\n",
        "print(agg_result)"
      ]
    }
  ]
}