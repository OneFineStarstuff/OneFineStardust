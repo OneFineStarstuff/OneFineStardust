{
  "nbformat": 4,
  "nbformat_minor": 0,
  "metadata": {
    "colab": {
      "private_outputs": true,
      "provenance": [],
      "authorship_tag": "ABX9TyPPlp2GHGntIcdwOTeqO5Tb",
      "include_colab_link": true
    },
    "kernelspec": {
      "name": "python3",
      "display_name": "Python 3"
    },
    "language_info": {
      "name": "python"
    }
  },
  "cells": [
    {
      "cell_type": "markdown",
      "metadata": {
        "id": "view-in-github",
        "colab_type": "text"
      },
      "source": [
        "<a href=\"https://colab.research.google.com/github/OneFineStarstuff/OneFineStardust/blob/main/Simulating_a_Black_Hole%E2%80%99s_Effect_on_Light_Trajectories_(Gravitational_Lensing).ipynb\" target=\"_parent\"><img src=\"https://colab.research.google.com/assets/colab-badge.svg\" alt=\"Open In Colab\"/></a>"
      ]
    },
    {
      "cell_type": "code",
      "execution_count": null,
      "metadata": {
        "id": "i53U4yBvu57I"
      },
      "outputs": [],
      "source": [
        "import numpy as np\n",
        "import matplotlib.pyplot as plt\n",
        "\n",
        "# Constants\n",
        "G = 6.67430e-11  # Gravitational constant in m^3 kg^-1 s^-2\n",
        "c = 3.0e8  # Speed of light in m/s\n",
        "M = 5.972e30  # Mass of black hole in kg\n",
        "\n",
        "# Spatial grid for plotting\n",
        "x = np.linspace(-1e12, 1e12, 1000)  # Horizontal range in meters\n",
        "y = np.linspace(-1e12, 1e12, 1000)  # Vertical range in meters\n",
        "X, Y = np.meshgrid(x, y)\n",
        "R = np.sqrt(X**2 + Y**2)  # Distance from black hole\n",
        "\n",
        "# Effective gravitational potential\n",
        "phi = -G * M / R\n",
        "phi[R < 1e7] = np.nan  # Avoid division by zero near the black hole\n",
        "\n",
        "# Calculate bending of light (simplified)\n",
        "def light_deflection_angle(r):\n",
        "    return 4 * G * M / (r * c**2)\n",
        "\n",
        "# Plot the effective potential to visualize gravitational lensing effect\n",
        "plt.figure(figsize=(8, 8))\n",
        "plt.contourf(X, Y, phi, levels=50, cmap='viridis')\n",
        "plt.colorbar(label='Gravitational Potential')\n",
        "plt.xlabel('X Position (m)')\n",
        "plt.ylabel('Y Position (m)')\n",
        "plt.title('Gravitational Lensing Around a Black Hole')\n",
        "plt.show()"
      ]
    }
  ]
}