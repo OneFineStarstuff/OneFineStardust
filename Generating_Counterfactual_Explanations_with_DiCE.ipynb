{
  "nbformat": 4,
  "nbformat_minor": 0,
  "metadata": {
    "colab": {
      "private_outputs": true,
      "provenance": [],
      "authorship_tag": "ABX9TyMewtfUjwC1TyRAI5oSOxXD",
      "include_colab_link": true
    },
    "kernelspec": {
      "name": "python3",
      "display_name": "Python 3"
    },
    "language_info": {
      "name": "python"
    }
  },
  "cells": [
    {
      "cell_type": "markdown",
      "metadata": {
        "id": "view-in-github",
        "colab_type": "text"
      },
      "source": [
        "<a href=\"https://colab.research.google.com/github/OneFineStarstuff/OneFineStardust/blob/main/Generating_Counterfactual_Explanations_with_DiCE.ipynb\" target=\"_parent\"><img src=\"https://colab.research.google.com/assets/colab-badge.svg\" alt=\"Open In Colab\"/></a>"
      ]
    },
    {
      "cell_type": "code",
      "execution_count": null,
      "metadata": {
        "id": "FLpaZH240KyC"
      },
      "outputs": [],
      "source": [
        "pip install dice-ml"
      ]
    },
    {
      "cell_type": "code",
      "source": [
        "import dice_ml\n",
        "from dice_ml.utils import helpers\n",
        "import pandas as pd\n",
        "import numpy as np\n",
        "from sklearn.model_selection import train_test_split\n",
        "from sklearn.ensemble import RandomForestClassifier\n",
        "\n",
        "# Load example data\n",
        "data = pd.DataFrame({\n",
        "    'feature_1': np.random.randn(100),\n",
        "    'feature_2': np.random.randn(100),\n",
        "    'target': np.random.randint(2, size=100)\n",
        "})\n",
        "\n",
        "# Split data into features and target\n",
        "X = data.drop('target', axis=1)\n",
        "y = data['target']\n",
        "\n",
        "# Train a model\n",
        "X_train, X_test, y_train, y_test = train_test_split(X, y, test_size=0.2, random_state=42)\n",
        "model = RandomForestClassifier()\n",
        "model.fit(X_train, y_train)\n",
        "\n",
        "# Initialize DiCE\n",
        "dice_data = dice_ml.Data(dataframe=data, continuous_features=['feature_1', 'feature_2'], outcome_name='target')\n",
        "model_interface = dice_ml.Model(model=model, backend='sklearn')\n",
        "dice = dice_ml.Dice(data_interface=dice_data, model_interface=model_interface, method=\"random\")\n",
        "\n",
        "# Create a query instance\n",
        "query_instance = {\"feature_1\": 5.1, \"feature_2\": 3.5}\n",
        "\n",
        "# Generate counterfactuals\n",
        "counterfactuals = dice.generate_counterfactuals(pd.DataFrame([query_instance]), total_CFs=5)\n",
        "\n",
        "# Display counterfactuals\n",
        "counterfactuals.visualize_as_dataframe()"
      ],
      "metadata": {
        "id": "-J_ovxC90V2W"
      },
      "execution_count": null,
      "outputs": []
    }
  ]
}