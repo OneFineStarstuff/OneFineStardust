{
  "nbformat": 4,
  "nbformat_minor": 0,
  "metadata": {
    "colab": {
      "private_outputs": true,
      "provenance": [],
      "authorship_tag": "ABX9TyOLELpIBUnIHgeSvudV8OGf",
      "include_colab_link": true
    },
    "kernelspec": {
      "name": "python3",
      "display_name": "Python 3"
    },
    "language_info": {
      "name": "python"
    }
  },
  "cells": [
    {
      "cell_type": "markdown",
      "metadata": {
        "id": "view-in-github",
        "colab_type": "text"
      },
      "source": [
        "<a href=\"https://colab.research.google.com/github/OneFineStarstuff/OneFineStardust/blob/main/Basic_setup_for_a_simulation_with_a_falling_cube.ipynb\" target=\"_parent\"><img src=\"https://colab.research.google.com/assets/colab-badge.svg\" alt=\"Open In Colab\"/></a>"
      ]
    },
    {
      "cell_type": "code",
      "source": [
        "pip install pybullet"
      ],
      "metadata": {
        "id": "0xM1D7oyiKzC"
      },
      "execution_count": null,
      "outputs": []
    },
    {
      "cell_type": "code",
      "execution_count": null,
      "metadata": {
        "id": "hqYt9d5HgbzW"
      },
      "outputs": [],
      "source": [
        "import pybullet as p\n",
        "import pybullet_data\n",
        "import time\n",
        "\n",
        "# Initialize physics simulation\n",
        "p.connect(p.GUI)\n",
        "p.setAdditionalSearchPath(pybullet_data.getDataPath())  # For accessing sample objects\n",
        "\n",
        "# Set gravity and load a plane\n",
        "p.setGravity(0, 0, -9.8)\n",
        "plane_id = p.loadURDF(\"plane.urdf\")\n",
        "\n",
        "# Load a cube with physics properties\n",
        "cube_start_pos = [0, 0, 1]\n",
        "cube_start_orientation = p.getQuaternionFromEuler([0, 0, 0])\n",
        "cube_id = p.loadURDF(\"r2d2.urdf\", cube_start_pos, cube_start_orientation)\n",
        "\n",
        "# Run simulation for a few steps\n",
        "for _ in range(100):\n",
        "    p.stepSimulation()\n",
        "    cube_pos, cube_orn = p.getBasePositionAndOrientation(cube_id)\n",
        "    print(\"Cube Position:\", cube_pos)\n",
        "    time.sleep(1./240.)\n",
        "\n",
        "p.disconnect()"
      ]
    }
  ]
}