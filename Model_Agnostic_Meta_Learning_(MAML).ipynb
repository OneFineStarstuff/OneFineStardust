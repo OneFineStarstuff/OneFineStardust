{
  "nbformat": 4,
  "nbformat_minor": 0,
  "metadata": {
    "colab": {
      "private_outputs": true,
      "provenance": [],
      "authorship_tag": "ABX9TyMC3hQ4f1W1AwJaYm2z53la",
      "include_colab_link": true
    },
    "kernelspec": {
      "name": "python3",
      "display_name": "Python 3"
    },
    "language_info": {
      "name": "python"
    }
  },
  "cells": [
    {
      "cell_type": "markdown",
      "metadata": {
        "id": "view-in-github",
        "colab_type": "text"
      },
      "source": [
        "<a href=\"https://colab.research.google.com/github/OneFineStarstuff/OneFineStardust/blob/main/Model_Agnostic_Meta_Learning_(MAML).ipynb\" target=\"_parent\"><img src=\"https://colab.research.google.com/assets/colab-badge.svg\" alt=\"Open In Colab\"/></a>"
      ]
    },
    {
      "cell_type": "code",
      "execution_count": null,
      "metadata": {
        "id": "j1ND6M_K86yG"
      },
      "outputs": [],
      "source": [
        "import torch\n",
        "import copy\n",
        "\n",
        "# Function to compute the loss for a given model and task\n",
        "def compute_loss(model, task):\n",
        "    inputs, targets = task\n",
        "    outputs = model(inputs)\n",
        "    loss = torch.nn.functional.mse_loss(outputs, targets)\n",
        "    return loss\n",
        "\n",
        "def maml_update(model, task_data, optimizer, lr_inner=0.01, inner_steps=5, lr_outer=0.001):\n",
        "    # Outer loop: Update on meta-tasks\n",
        "    for task in task_data:\n",
        "        # Clone model for inner loop\n",
        "        task_model = copy.deepcopy(model)\n",
        "\n",
        "        # Inner loop: Task-specific update\n",
        "        for step in range(inner_steps):\n",
        "            task_loss = compute_loss(task_model, task)\n",
        "            task_grads = torch.autograd.grad(task_loss, task_model.parameters(), create_graph=True)\n",
        "\n",
        "            # Apply inner loop gradient update\n",
        "            for param, grad in zip(task_model.parameters(), task_grads):\n",
        "                param.data -= lr_inner * grad\n",
        "\n",
        "        # Compute meta-loss and optimize on original model\n",
        "        meta_loss = compute_loss(task_model, task)\n",
        "        meta_loss.backward()\n",
        "\n",
        "    optimizer.step()\n",
        "    optimizer.zero_grad()\n",
        "\n",
        "# Example usage\n",
        "class SimpleModel(torch.nn.Module):\n",
        "    def __init__(self):\n",
        "        super(SimpleModel, self).__init__()\n",
        "        self.fc = torch.nn.Linear(10, 1)\n",
        "\n",
        "    def forward(self, x):\n",
        "        return self.fc(x)\n",
        "\n",
        "# Initialize model and optimizer\n",
        "model = SimpleModel()\n",
        "optimizer = torch.optim.Adam(model.parameters(), lr=0.001)\n",
        "\n",
        "# Generate some sample task data (inputs and targets)\n",
        "task_data = [(torch.randn(32, 10), torch.randn(32, 1)) for _ in range(4)]\n",
        "\n",
        "# Perform MAML update\n",
        "maml_update(model, task_data, optimizer)\n",
        "\n",
        "print(\"MAML update completed.\")"
      ]
    }
  ]
}