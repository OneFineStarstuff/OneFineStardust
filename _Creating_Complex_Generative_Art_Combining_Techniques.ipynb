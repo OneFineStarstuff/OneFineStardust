{
  "nbformat": 4,
  "nbformat_minor": 0,
  "metadata": {
    "colab": {
      "private_outputs": true,
      "provenance": [],
      "authorship_tag": "ABX9TyNIx/EKVShUQGB31q1XUcc4",
      "include_colab_link": true
    },
    "kernelspec": {
      "name": "python3",
      "display_name": "Python 3"
    },
    "language_info": {
      "name": "python"
    }
  },
  "cells": [
    {
      "cell_type": "markdown",
      "metadata": {
        "id": "view-in-github",
        "colab_type": "text"
      },
      "source": [
        "<a href=\"https://colab.research.google.com/github/OneFineStarstuff/OneFineStardust/blob/main/_Creating_Complex_Generative_Art_Combining_Techniques.ipynb\" target=\"_parent\"><img src=\"https://colab.research.google.com/assets/colab-badge.svg\" alt=\"Open In Colab\"/></a>"
      ]
    },
    {
      "cell_type": "code",
      "source": [
        "pip install noise"
      ],
      "metadata": {
        "id": "LYSUzGrGp1LO"
      },
      "execution_count": null,
      "outputs": []
    },
    {
      "cell_type": "code",
      "execution_count": null,
      "metadata": {
        "id": "7PKbyODtpq8j"
      },
      "outputs": [],
      "source": [
        "import numpy as np\n",
        "import matplotlib.pyplot as plt\n",
        "from matplotlib.animation import FuncAnimation\n",
        "from noise import pnoise2\n",
        "import random\n",
        "\n",
        "# Set up the figure and axis\n",
        "fig, ax = plt.subplots(figsize=(8, 8))\n",
        "ax.set_aspect('equal')\n",
        "ax.axis('off')\n",
        "\n",
        "# Initialize list to store circles\n",
        "circles = []\n",
        "\n",
        "# Function to add a circle on click\n",
        "def on_click(event):\n",
        "    if event.inaxes == ax:\n",
        "        x, y = event.xdata, event.ydata\n",
        "        radius = np.random.uniform(0.05, 0.2)\n",
        "        color = np.random.choice([\"#FF5733\", \"#FFBD33\", \"#33FF57\", \"#335BFF\", \"#9A33FF\"])\n",
        "        circle = plt.Circle((x, y), radius, color=color, fill=True, alpha=0.6)\n",
        "        ax.add_artist(circle)\n",
        "        circles.append(circle)\n",
        "\n",
        "# Connect the click event to the function\n",
        "fig.canvas.mpl_connect(\"button_press_event\", on_click)\n",
        "\n",
        "# Function to update circles' positions and attributes\n",
        "def animate_interactive(frame):\n",
        "    for circle in circles:\n",
        "        x, y = circle.center\n",
        "        circle.radius = max(0.05, circle.radius + 0.01 * np.sin(frame / 10))\n",
        "        circle.center = (x + np.random.uniform(-0.005, 0.005), y + np.random.uniform(-0.005, 0.005))\n",
        "        color = np.random.choice([\"#FF5733\", \"#FFBD33\", \"#33FF57\", \"#335BFF\", \"#9A33FF\"])\n",
        "        circle.set_facecolor(color)\n",
        "        circle.set_alpha(0.4 + 0.2 * np.cos(frame / 20))\n",
        "\n",
        "# Function to generate dynamic color based on Perlin noise\n",
        "def get_noise_color(x, y):\n",
        "    r = (100 + 155 * pnoise2(x * 0.3, y * 0.3)) / 255\n",
        "    g = (100 + 155 * pnoise2(x * 0.4, y * 0.4)) / 255\n",
        "    b = (100 + 155 * pnoise2(x * 0.5, y * 0.5)) / 255\n",
        "    return (r, g, b)\n",
        "\n",
        "# Function to create complex recursive patterns\n",
        "def draw_complex_pattern(ax, center, radius, depth):\n",
        "    if depth > 0:\n",
        "        color = get_noise_color(center[0], center[1])\n",
        "        circle = plt.Circle(center, radius, color=color, fill=True, alpha=0.6)\n",
        "        ax.add_artist(circle)\n",
        "\n",
        "        new_radius = radius * 0.7\n",
        "        for angle in np.linspace(0, 2 * np.pi, num=6, endpoint=False):\n",
        "            x = center[0] + new_radius * np.cos(angle) * (1 + 0.1 * np.sin(depth * angle))\n",
        "            y = center[1] + new_radius * np.sin(angle) * (1 + 0.1 * np.cos(depth * angle))\n",
        "            draw_complex_pattern(ax, (x, y), new_radius, depth - 1)\n",
        "\n",
        "# Initial complex pattern\n",
        "draw_complex_pattern(ax, (0, 0), 1, 4)\n",
        "\n",
        "# Run the animation\n",
        "anim = FuncAnimation(fig, animate_interactive, frames=200, interval=50)\n",
        "\n",
        "# Save the animation as a GIF using Pillow\n",
        "anim.save(\"interactive_generative_art.gif\", writer=\"pillow\", fps=20)\n",
        "\n",
        "# Save the animation as an MP4 video using ffmpeg\n",
        "anim.save(\"interactive_generative_art.mp4\", writer=\"ffmpeg\", fps=20)\n",
        "\n",
        "plt.show()"
      ]
    }
  ]
}