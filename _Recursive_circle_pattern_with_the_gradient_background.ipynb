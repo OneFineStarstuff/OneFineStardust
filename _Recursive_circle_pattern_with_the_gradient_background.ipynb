{
  "nbformat": 4,
  "nbformat_minor": 0,
  "metadata": {
    "colab": {
      "private_outputs": true,
      "provenance": [],
      "authorship_tag": "ABX9TyOovnUaekS+yT/6dVzqowe2",
      "include_colab_link": true
    },
    "kernelspec": {
      "name": "python3",
      "display_name": "Python 3"
    },
    "language_info": {
      "name": "python"
    }
  },
  "cells": [
    {
      "cell_type": "markdown",
      "metadata": {
        "id": "view-in-github",
        "colab_type": "text"
      },
      "source": [
        "<a href=\"https://colab.research.google.com/github/OneFineStarstuff/OneFineStardust/blob/main/_Recursive_circle_pattern_with_the_gradient_background.ipynb\" target=\"_parent\"><img src=\"https://colab.research.google.com/assets/colab-badge.svg\" alt=\"Open In Colab\"/></a>"
      ]
    },
    {
      "cell_type": "code",
      "source": [
        "pip install noise"
      ],
      "metadata": {
        "id": "NKzg9zHocP2i"
      },
      "execution_count": null,
      "outputs": []
    },
    {
      "cell_type": "code",
      "execution_count": null,
      "metadata": {
        "id": "nV0SNYaSbgNo"
      },
      "outputs": [],
      "source": [
        "import numpy as np\n",
        "import matplotlib.pyplot as plt\n",
        "from noise import pnoise2\n",
        "import random\n",
        "from PIL import Image, ImageDraw, ImageFilter\n",
        "\n",
        "# Recursive function to draw circles with randomness and noise\n",
        "def draw_circle(ax, center, radius, depth, color_map):\n",
        "    if depth > 0:\n",
        "        # Randomly alter the color and circle radius with Perlin noise\n",
        "        color = color_map[depth % len(color_map)]\n",
        "        noisy_radius = radius * (0.8 + 0.2 * pnoise2(center[0] * 0.5, center[1] * 0.5, octaves=2))\n",
        "        circle = plt.Circle(center, noisy_radius, color=color, fill=False, linewidth=1.5)\n",
        "        ax.add_artist(circle)\n",
        "\n",
        "        # Recursive calls with modified positions and radius for randomness\n",
        "        for angle in np.linspace(0, 2 * np.pi, num=5, endpoint=False):  # More angles for added complexity\n",
        "            new_radius = radius * (0.4 + 0.2 * random.random())\n",
        "            x = center[0] + noisy_radius * np.cos(angle)\n",
        "            y = center[1] + noisy_radius * np.sin(angle)\n",
        "            draw_circle(ax, (x, y), new_radius, depth - 1, color_map)\n",
        "\n",
        "# Generate gradient background\n",
        "def gradient_background(width, height, start_color, end_color):\n",
        "    image = Image.new(\"RGB\", (width, height), start_color)\n",
        "    draw = ImageDraw.Draw(image)\n",
        "\n",
        "    for i in range(height):\n",
        "        r = start_color[0] + (end_color[0] - start_color[0]) * i // height\n",
        "        g = start_color[1] + (end_color[1] - start_color[1]) * i // height\n",
        "        b = start_color[2] + (end_color[2] - start_color[2]) * i // height\n",
        "        draw.line((0, i, width, i), fill=(r, g, b))\n",
        "\n",
        "    return image\n",
        "\n",
        "# Convert matplotlib figure to PIL Image\n",
        "def fig_to_image(fig):\n",
        "    fig.canvas.draw()\n",
        "    image = np.array(fig.canvas.renderer.buffer_rgba())\n",
        "    return Image.fromarray(image)\n",
        "\n",
        "# Parameters for the artwork\n",
        "fig, ax = plt.subplots(figsize=(8, 8))\n",
        "ax.set_aspect('equal')\n",
        "ax.axis('off')\n",
        "color_map = [\"#e74c3c\", \"#3498db\", \"#9b59b6\", \"#1abc9c\", \"#f1c40f\", \"#34495e\"]\n",
        "\n",
        "# Start recursive drawing with randomness\n",
        "draw_circle(ax, (0, 0), 1, 5, color_map)\n",
        "\n",
        "# Apply blur to the figure image\n",
        "fig_image = fig_to_image(fig).filter(ImageFilter.GaussianBlur(radius=2))\n",
        "\n",
        "# Generate the gradient background\n",
        "bg_image = gradient_background(800, 800, (30, 30, 30), (200, 200, 255))\n",
        "\n",
        "# Overlay the figure image onto the gradient background\n",
        "final_image = Image.alpha_composite(bg_image.convert(\"RGBA\"), fig_image)\n",
        "final_image.show()"
      ]
    }
  ]
}